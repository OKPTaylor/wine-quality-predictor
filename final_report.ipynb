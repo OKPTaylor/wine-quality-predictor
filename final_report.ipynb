{
 "cells": [
  {
   "cell_type": "markdown",
   "id": "9a6b11c4",
   "metadata": {},
   "source": [
    "# Project Sommelier Sciencers\n",
    "\n",
    "## Goal: \n",
    "\n",
    "* Find the key drivers of wine quality.\n",
    "* Using 3 clustering techniques to construct 4 machine learning models to predict wine quality from the wine quality (red and white) csv's from the Data World dataset.\n",
    "* Display results using 5 vizzes.\n",
    "\n",
    "---"
   ]
  },
  {
   "cell_type": "markdown",
   "id": "d4962439",
   "metadata": {
    "tags": []
   },
   "source": [
    "## <div class=\"alert alert-block alert-info\"> Imports<div>"
   ]
  },
  {
   "cell_type": "code",
   "execution_count": 15,
   "id": "d815a0f8",
   "metadata": {},
   "outputs": [],
   "source": [
    "# # My Modules\n",
    "# import wrangle as wr\n",
    "# import explore as ex\n",
    "# import stats_conclude as sc\n",
    "# import evaluate as ev\n",
    "\n",
    "# Imports\n",
    "import os\n",
    "\n",
    "# Numbers\n",
    "import pandas as pd \n",
    "import numpy as np\n",
    "import scipy.stats as stats\n",
    "\n",
    "# Vizzes\n",
    "import matplotlib.pyplot as plt\n",
    "import seaborn as sns\n",
    "\n",
    "# Splitting\n",
    "from sklearn.model_selection import train_test_split\n",
    "\n",
    "# Engineering\n",
    "# GET THESE IMPORTS\n",
    "\n",
    "# Modeling\n",
    "# GET THESE IMPORTS\n",
    "\n",
    "import warnings\n",
    "warnings.filterwarnings(\"ignore\")"
   ]
  },
  {
   "cell_type": "markdown",
   "id": "fe383836",
   "metadata": {
    "tags": []
   },
   "source": [
    "## <div class=\"alert alert-block alert-info\"> Wrangle\n",
    "      \n",
    "### Acquire\n",
    "* Data acquired from Data.World website\n",
    "* Combined red and white CSV files\n",
    "* Each row represents a wine\n",
    "* Each column represents a feature\n",
    "  \n",
    "### Prepare\n",
    "    \n",
    "* Look at the data:\n",
    "    * nulls\n",
    "    * value counts\n",
    "    * data types\n",
    "    * numerical/categorical columns\n",
    "    * names of columns\n",
    "        * related columns\n",
    "    \n",
    "### Data Dictionary\n",
    "* Explanation of dataset features\n",
    " "
   ]
  },
  {
   "cell_type": "markdown",
   "id": "5e7af5c5",
   "metadata": {
    "tags": []
   },
   "source": [
    "| Feature | Definition (measurement)|\n",
    "|:--------|:-----------|\n",
    "|Fixed Acidity| The fixed amount of tartaric acid. (g/L)|\n",
    "|Volatile Acidity| A wine's acetic acid; (High Volatility = High Vinegar-like smell). (g/L)|\n",
    "|Citric Acid| The amount of citric acid; (Raises acidity, Lowers shelf-life). (g/L)|\n",
    "|Residual Sugar| Leftover sugars after fermentation. (g/L)|\n",
    "|Chlorides| Increases sodium levels; (Affects color, clarity, flavor, aroma). (g/L)|\n",
    "|Free Sulfur Dioxide| Related to pH. Determines how much SO2 is available. (Increases shelf-life, decreases palatability). (mg/L)|\n",
    "|Total Sulfur Dioxide| Summation of free and bound SO2. (Limited to 350ppm: 0-150, low-processed, 150+ highly processed). (mg/L)|\n",
    "|Density| Between 1.08 and 1.09. (Insight into fermentation process of yeast growth). (g/L)|\n",
    "|pH| 2.5: more acidic - 4.5: less acidic (range)|\n",
    "|Sulphates| Added to stop fermentation (Preservative) (g/L)|\n",
    "|Alcohol| Related to Residual Sugars. By-product of fermentation process (vol%)|\n",
    "|Quality| Score assigned between 0 and 10; 0=low, 10=best|"
   ]
  },
  {
   "cell_type": "code",
   "execution_count": 1,
   "id": "d3eb2022",
   "metadata": {},
   "outputs": [],
   "source": [
    "# Acquire\n"
   ]
  },
  {
   "cell_type": "code",
   "execution_count": 2,
   "id": "736cd03f-f354-4329-abb4-3de853bbd779",
   "metadata": {},
   "outputs": [],
   "source": [
    "# Prepare: cleaning data\n"
   ]
  },
  {
   "cell_type": "code",
   "execution_count": 3,
   "id": "3bd6d31c-6213-468a-b1b9-b58b951cc4af",
   "metadata": {},
   "outputs": [],
   "source": [
    "# Prepare: SPLIT\n"
   ]
  },
  {
   "cell_type": "markdown",
   "id": "d39e2f6f",
   "metadata": {},
   "source": [
    "<div class=\"alert alert-block alert-info\"> \n",
    "    \n",
    "## Explore\n",
    "    \n",
    "### Questions To Answer:\n",
    "1. Do chlorides affect quality?\n",
    "2. Is free sulfur dioxide related to pH?\n",
    "3. Is alcohol content related to residual sugars?\n",
    "4. Does alcohol content affect quality of wine?\n"
   ]
  },
  {
   "cell_type": "markdown",
   "id": "e921a975",
   "metadata": {},
   "source": [
    "## <div class=\"alert alert-block alert-info\">  1. Do chlorides affect quality?"
   ]
  },
  {
   "cell_type": "markdown",
   "id": "da38a36f-1602-4685-a9dc-852db3e3abd1",
   "metadata": {},
   "source": [
    "$H_0$: \n",
    "\n",
    "$H_a$: "
   ]
  },
  {
   "cell_type": "code",
   "execution_count": 4,
   "id": "2e0b4bb2-f78d-4f88-b12c-c5f7963eada2",
   "metadata": {},
   "outputs": [],
   "source": [
    "# visualize\n"
   ]
  },
  {
   "cell_type": "code",
   "execution_count": 5,
   "id": "2e67154d-ca8c-4bf6-bcc1-4ce4e9b6e53d",
   "metadata": {},
   "outputs": [],
   "source": [
    "# analyze\n"
   ]
  },
  {
   "cell_type": "code",
   "execution_count": 7,
   "id": "919a906e-eff2-463f-a468-3181e2cd8745",
   "metadata": {
    "tags": []
   },
   "outputs": [],
   "source": [
    "# summarize\n"
   ]
  },
  {
   "cell_type": "markdown",
   "id": "1f4d4d27-720c-47df-8701-db9b157fa2c2",
   "metadata": {},
   "source": [
    "## <div class=\"alert alert-block alert-info\">  2. Is free sulfur dioxide related to pH?"
   ]
  },
  {
   "cell_type": "markdown",
   "id": "cd339f01-c9b9-4b77-9873-8e6ace4a5c0d",
   "metadata": {},
   "source": [
    "$H_0$: \n",
    "\n",
    "$H_a$: "
   ]
  },
  {
   "cell_type": "code",
   "execution_count": 4,
   "id": "af087ddc-cc72-4454-b982-02315daea60d",
   "metadata": {},
   "outputs": [],
   "source": [
    "# visualize\n"
   ]
  },
  {
   "cell_type": "code",
   "execution_count": 5,
   "id": "18e8b5f7-12d4-4711-b516-c77a37473dbc",
   "metadata": {},
   "outputs": [],
   "source": [
    "# analyze\n"
   ]
  },
  {
   "cell_type": "code",
   "execution_count": 7,
   "id": "f6b1b5fc-00cd-4956-9033-3003a8a73360",
   "metadata": {
    "tags": []
   },
   "outputs": [],
   "source": [
    "# summarize\n"
   ]
  },
  {
   "cell_type": "markdown",
   "id": "cff62adb-e4dc-4235-a477-2ae2c55c47bf",
   "metadata": {},
   "source": [
    "## <div class=\"alert alert-block alert-info\">  3. Is alcohol content related to residual sugars?"
   ]
  },
  {
   "cell_type": "markdown",
   "id": "f2964413-109f-4880-b012-956e1f9469dc",
   "metadata": {},
   "source": [
    "$H_0$: \n",
    "\n",
    "$H_a$: "
   ]
  },
  {
   "cell_type": "code",
   "execution_count": 4,
   "id": "a0a321c0-c4c2-471f-8944-817cef1b4497",
   "metadata": {},
   "outputs": [],
   "source": [
    "# visualize\n"
   ]
  },
  {
   "cell_type": "code",
   "execution_count": 5,
   "id": "2a43177e-fe9c-4827-9218-45bceaa0179b",
   "metadata": {},
   "outputs": [],
   "source": [
    "# analyze\n"
   ]
  },
  {
   "cell_type": "code",
   "execution_count": 7,
   "id": "9a65936d-9029-4545-af81-1c09f09c71b6",
   "metadata": {
    "tags": []
   },
   "outputs": [],
   "source": [
    "# summarize\n"
   ]
  },
  {
   "cell_type": "markdown",
   "id": "b99f7a29-8408-487f-ac23-31c91bc926c6",
   "metadata": {},
   "source": [
    "## <div class=\"alert alert-block alert-info\">  4. Does alcohol content affect quality of wine?"
   ]
  },
  {
   "cell_type": "markdown",
   "id": "17264b26-8aea-4abc-9bcd-1ba2b71749d9",
   "metadata": {},
   "source": [
    "$H_0$: \n",
    "\n",
    "$H_a$: "
   ]
  },
  {
   "cell_type": "code",
   "execution_count": 4,
   "id": "474517ec-1921-48f5-bd6b-def702bffb49",
   "metadata": {},
   "outputs": [],
   "source": [
    "# visualize\n"
   ]
  },
  {
   "cell_type": "code",
   "execution_count": 5,
   "id": "e51313ab-b7c1-4aea-a5c5-d5f92f0ca27d",
   "metadata": {},
   "outputs": [],
   "source": [
    "# analyze\n"
   ]
  },
  {
   "cell_type": "code",
   "execution_count": 7,
   "id": "b1a30e6e-26cf-4ea8-b62d-51f62bf9c31a",
   "metadata": {
    "tags": []
   },
   "outputs": [],
   "source": [
    "# summarize\n"
   ]
  },
  {
   "cell_type": "markdown",
   "id": "62d5110e-4834-473f-9591-4016ee4255eb",
   "metadata": {},
   "source": [
    "<div class=\"alert alert-block alert-info\">  \n",
    "\n",
    "### Explore Takeaways:\n",
    "\n",
    "**Target = Quality of Wine**\n",
    "\n",
    "\n",
    "    \n",
    "\n",
    "#### Features to Send In:\n",
    "    \n",
    "* \n",
    "* \n",
    "* \n",
    "* \n",
    "    \n",
    "#### Features to Exclude:\n",
    "* \n",
    "    \n",
    "---\n",
    "    \n",
    "\n",
    "<div> "
   ]
  },
  {
   "cell_type": "markdown",
   "id": "7952fb8b-f798-4d12-abaa-bc7c41c37818",
   "metadata": {},
   "source": [
    "<div class=\"alert alert-block alert-info\"> \n",
    "\n",
    "## Preprocessing\n",
    "\n",
    "* Encode any categoricals\n",
    "\n",
    "* Engineered Features:\n",
    "    * None for this iteration\n",
    "  \n",
    "* Scale into train, validate, test    \n",
    "* Split into X_train, y_train, X_validate, y_validate, X_test, y_test\n"
   ]
  },
  {
   "cell_type": "code",
   "execution_count": 8,
   "id": "ff640f00-407b-4ba9-99a9-a82502e3a1cc",
   "metadata": {},
   "outputs": [],
   "source": [
    "# Encode\n"
   ]
  },
  {
   "cell_type": "code",
   "execution_count": 9,
   "id": "3e86915b-33bc-42f7-ae1e-dc6a84fa6c20",
   "metadata": {},
   "outputs": [],
   "source": [
    "# Split\n"
   ]
  },
  {
   "cell_type": "code",
   "execution_count": 10,
   "id": "4333a988-8fa2-490e-9104-c4905b7470bb",
   "metadata": {},
   "outputs": [],
   "source": [
    "# Assign\n"
   ]
  },
  {
   "cell_type": "code",
   "execution_count": 11,
   "id": "14bebd7e-191e-4ba3-968e-bdb58d917106",
   "metadata": {},
   "outputs": [],
   "source": [
    "# Scale\n"
   ]
  },
  {
   "cell_type": "markdown",
   "id": "6923f502",
   "metadata": {},
   "source": [
    "<div class=\"alert alert-block alert-info\"> \n",
    "    \n",
    "## Models to Run:\n",
    "    \n",
    "**Classification:**\n",
    "    \n",
    "* Decision Tree\n",
    "* K-Nearest Neighbors\n",
    "* Random Forest\n",
    "* Logistic Regression\n",
    " \n",
    "---\n",
    "    \n",
    "#### Accuracy is the evaluation metric\n",
    "    \n",
    "#### Focus is to beat baseline and establish drivers of quality"
   ]
  },
  {
   "cell_type": "code",
   "execution_count": 14,
   "id": "f9ba1fc8-cd51-4402-bc55-705c9f39b2a0",
   "metadata": {},
   "outputs": [],
   "source": [
    "# plot target\n"
   ]
  },
  {
   "cell_type": "code",
   "execution_count": 13,
   "id": "e391c42e-5bf2-4aea-96e4-de9fc66be860",
   "metadata": {},
   "outputs": [],
   "source": [
    "# do model stuff\n"
   ]
  },
  {
   "cell_type": "markdown",
   "id": "2b492b61-6ece-4228-bcbb-b4588d75d52b",
   "metadata": {},
   "source": [
    "<div class=\"alert alert-block alert-info\">\n",
    "    \n",
    "## Modeling Conclusion:\n",
    "    \n",
    "*\n",
    "*\n",
    "*"
   ]
  },
  {
   "cell_type": "markdown",
   "id": "9793db8c",
   "metadata": {},
   "source": [
    "<div class=\"alert alert-block alert-info\">\n",
    "    \n",
    "# Project Conclusion\n",
    "    \n",
    "\n",
    "### Explore:\n",
    "    \n",
    "* \n",
    "  \n",
    "* \n",
    "  \n",
    "* \n",
    "  \n",
    "* \n",
    "    \n",
    "### Modeling:\n",
    "    \n",
    "\n",
    "    \n",
    "### Recommendations and Next Steps:\n",
    " \n",
    "* For the data engineers: \n",
    "* For the data scientsists: \n",
    "* For the business: "
   ]
  }
 ],
 "metadata": {
  "kernelspec": {
   "display_name": "Python 3 (ipykernel)",
   "language": "python",
   "name": "python3"
  },
  "language_info": {
   "codemirror_mode": {
    "name": "ipython",
    "version": 3
   },
   "file_extension": ".py",
   "mimetype": "text/x-python",
   "name": "python",
   "nbconvert_exporter": "python",
   "pygments_lexer": "ipython3",
   "version": "3.9.13"
  }
 },
 "nbformat": 4,
 "nbformat_minor": 5
}
